{
 "cells": [
  {
   "cell_type": "markdown",
   "metadata": {
    "deletable": true,
    "editable": true
   },
   "source": [
    "# line 股票 bot\n"
   ]
  },
  {
   "cell_type": "markdown",
   "metadata": {
    "deletable": true,
    "editable": true
   },
   "source": [
    "## 申請 line developer trial\n",
    "- 沒申請也ok，只是沒有推送功能可用\n",
    "- developer trial只可以有50個好友\n",
    "\n",
    "### 目前由中文官方網頁申請 line@帳號開啟API預設沒有developer trial項可以選  \n",
    "要改由 https://developers.line.me/en/ 進去申請才行  \n",
    "如此頁面的介紹： http://at-blog.line.me/tw/create_developer_trial\n",
    "\n",
    "- 申請結束，要把「Channel secret」、「Channel access token」複製到程式中，此為收送訊息需要的\n",
    "- 接著編輯「Use webhooks」欄位，改為「Enabled」\n",
    "- 加入「Webhook URL」，以我的為例為「mybot.herokuapp.com/callback_yangbot8」\n",
    "- 「Auto-reply messages」改為disable\n",
    "- 掃一下這一個line-bot的bar-code，把它加入好友\n",
    "  \n",
    "- 接著參考這一篇打造一個echo bot:  \n",
    "  https://github.com/line/line-bot-sdk-python/tree/master/examples/flask-echo\n",
    "- line API的參考文件：  \n",
    "  https://developers.line.me/en/docs/messaging-api/reference/#image\n",
    "- 測試會動了之後，請在程式中69~73行改為加入這一段，為主動發送訊息的測試做準備"
   ]
  },
  {
   "cell_type": "code",
   "execution_count": null,
   "metadata": {
    "collapsed": true,
    "deletable": true,
    "editable": true
   },
   "outputs": [],
   "source": [
    "#原來：\n",
    "        line_bot_api.reply_message(\n",
    "            event.reply_token,\n",
    "            TextSendMessage(text=event.message.text)\n",
    "        )\n",
    "#改為：\n",
    "        text=event.message.text\n",
    "        #userId = event['source']['userId']\n",
    "        if(text.lower()=='me'):\n",
    "            content = str(event.source.user_id)\n",
    "\n",
    "            line_bot_api_8.reply_message(\n",
    "                event.reply_token,\n",
    "                TextSendMessage(text=content)\n",
    "            )\n",
    "        else:\n",
    "            line_bot_api_8.reply_message(\n",
    "                event.reply_token,\n",
    "                TextSendMessage(text=text)\n",
    "            )            "
   ]
  },
  {
   "cell_type": "code",
   "execution_count": 1,
   "metadata": {
    "collapsed": true,
    "deletable": true,
    "editable": true
   },
   "outputs": [],
   "source": [
    "# 測試一下 Line-bot-sdk 的主動推播訊息\n",
    "# pip install line-bot-sdk\n",
    "\n",
    "#- push message test\n",
    "from linebot import (\n",
    "    LineBotApi, WebhookParser\n",
    ")\n",
    "from linebot.exceptions import (\n",
    "    InvalidSignatureError\n",
    ")\n",
    "from linebot.models import *\n",
    "\n",
    "channel_secret = 'your channel_secret'\n",
    "channel_access_token = 'your channel_access_token'\n",
    "line_bot_api = LineBotApi(channel_access_token)\n",
    "#push message to one user\n",
    "user_id = 'your user_id'\n",
    "line_bot_api.push_message(user_id, \n",
    "    TextSendMessage(text='Hello World!'))\n"
   ]
  },
  {
   "cell_type": "markdown",
   "metadata": {
    "deletable": true,
    "editable": true
   },
   "source": [
    "## 取得股票資訊\n",
    "- 使用twstock套件\n",
    "\n"
   ]
  },
  {
   "cell_type": "code",
   "execution_count": 7,
   "metadata": {
    "collapsed": false,
    "deletable": true,
    "editable": true
   },
   "outputs": [],
   "source": [
    "# 要先安裝twstock\n",
    "# pip install twstock\n",
    "\n",
    "import twstock\n",
    "stock = twstock.Stock('2330')"
   ]
  },
  {
   "cell_type": "code",
   "execution_count": 8,
   "metadata": {
    "collapsed": false,
    "deletable": true,
    "editable": true
   },
   "outputs": [
    {
     "data": {
      "text/plain": [
       "<twstock.stock.Stock at 0x7f0ec745beb8>"
      ]
     },
     "execution_count": 8,
     "metadata": {},
     "output_type": "execute_result"
    }
   ],
   "source": [
    "stock"
   ]
  },
  {
   "cell_type": "code",
   "execution_count": 4,
   "metadata": {
    "collapsed": false,
    "deletable": true,
    "editable": true
   },
   "outputs": [
    {
     "name": "stdout",
     "output_type": "stream",
     "text": [
      "high [datetime.datetime(2017, 11, 8, 0, 0), datetime.datetime(2017, 11, 9, 0, 0), datetime.datetime(2017, 11, 10, 0, 0), datetime.datetime(2017, 11, 13, 0, 0), datetime.datetime(2017, 11, 14, 0, 0)]\n",
      "price [242.5, 241.0, 240.5, 239.5, 240.0]\n",
      "high [243.5, 243.0, 242.0, 241.5, 241.0]\n"
     ]
    }
   ],
   "source": [
    "# Stock 預設建立時會取得近 31 日開盤之資料\n",
    "print('high', stock.date[-5:])    # 近五日\n",
    "print('price', stock.price[-5:])  # 近五日之收盤價\n",
    "print('high', stock.high[-5:])    # 近五日之盤中高點"
   ]
  },
  {
   "cell_type": "code",
   "execution_count": 6,
   "metadata": {
    "collapsed": false,
    "deletable": true,
    "editable": true
   },
   "outputs": [],
   "source": [
    "#先 pip install pandas\n",
    "import pandas as pd"
   ]
  },
  {
   "cell_type": "code",
   "execution_count": 9,
   "metadata": {
    "collapsed": true,
    "deletable": true,
    "editable": true
   },
   "outputs": [],
   "source": [
    "stock = twstock.Stock('2330')\n",
    "data = stock.fetch(2017, 11)\n",
    "df = pd.DataFrame.from_dict(data)"
   ]
  },
  {
   "cell_type": "code",
   "execution_count": 10,
   "metadata": {
    "collapsed": false,
    "deletable": true,
    "editable": true
   },
   "outputs": [
    {
     "data": {
      "text/html": [
       "<div>\n",
       "<style scoped>\n",
       "    .dataframe tbody tr th:only-of-type {\n",
       "        vertical-align: middle;\n",
       "    }\n",
       "\n",
       "    .dataframe tbody tr th {\n",
       "        vertical-align: top;\n",
       "    }\n",
       "\n",
       "    .dataframe thead th {\n",
       "        text-align: right;\n",
       "    }\n",
       "</style>\n",
       "<table border=\"1\" class=\"dataframe\">\n",
       "  <thead>\n",
       "    <tr style=\"text-align: right;\">\n",
       "      <th></th>\n",
       "      <th>date</th>\n",
       "      <th>capacity</th>\n",
       "      <th>turnover</th>\n",
       "      <th>open</th>\n",
       "      <th>high</th>\n",
       "      <th>low</th>\n",
       "      <th>close</th>\n",
       "      <th>change</th>\n",
       "      <th>transaction</th>\n",
       "    </tr>\n",
       "  </thead>\n",
       "  <tbody>\n",
       "    <tr>\n",
       "      <th>0</th>\n",
       "      <td>2017-11-01</td>\n",
       "      <td>20465054</td>\n",
       "      <td>4975624502</td>\n",
       "      <td>243.5</td>\n",
       "      <td>245.0</td>\n",
       "      <td>241.5</td>\n",
       "      <td>242.5</td>\n",
       "      <td>-0.5</td>\n",
       "      <td>6464</td>\n",
       "    </tr>\n",
       "    <tr>\n",
       "      <th>1</th>\n",
       "      <td>2017-11-02</td>\n",
       "      <td>16309342</td>\n",
       "      <td>3940181714</td>\n",
       "      <td>242.0</td>\n",
       "      <td>242.5</td>\n",
       "      <td>240.5</td>\n",
       "      <td>241.0</td>\n",
       "      <td>-1.5</td>\n",
       "      <td>5912</td>\n",
       "    </tr>\n",
       "    <tr>\n",
       "      <th>2</th>\n",
       "      <td>2017-11-03</td>\n",
       "      <td>18327682</td>\n",
       "      <td>4386122470</td>\n",
       "      <td>240.5</td>\n",
       "      <td>241.0</td>\n",
       "      <td>238.5</td>\n",
       "      <td>239.0</td>\n",
       "      <td>-2.0</td>\n",
       "      <td>5621</td>\n",
       "    </tr>\n",
       "    <tr>\n",
       "      <th>3</th>\n",
       "      <td>2017-11-06</td>\n",
       "      <td>21029515</td>\n",
       "      <td>5063670900</td>\n",
       "      <td>243.5</td>\n",
       "      <td>244.0</td>\n",
       "      <td>239.0</td>\n",
       "      <td>239.5</td>\n",
       "      <td>0.5</td>\n",
       "      <td>6601</td>\n",
       "    </tr>\n",
       "    <tr>\n",
       "      <th>4</th>\n",
       "      <td>2017-11-07</td>\n",
       "      <td>21689261</td>\n",
       "      <td>5266500464</td>\n",
       "      <td>242.0</td>\n",
       "      <td>244.0</td>\n",
       "      <td>241.5</td>\n",
       "      <td>244.0</td>\n",
       "      <td>4.5</td>\n",
       "      <td>6729</td>\n",
       "    </tr>\n",
       "    <tr>\n",
       "      <th>5</th>\n",
       "      <td>2017-11-08</td>\n",
       "      <td>14579103</td>\n",
       "      <td>3536455029</td>\n",
       "      <td>243.0</td>\n",
       "      <td>243.5</td>\n",
       "      <td>242.0</td>\n",
       "      <td>242.5</td>\n",
       "      <td>-1.5</td>\n",
       "      <td>4610</td>\n",
       "    </tr>\n",
       "    <tr>\n",
       "      <th>6</th>\n",
       "      <td>2017-11-09</td>\n",
       "      <td>21366949</td>\n",
       "      <td>5151628572</td>\n",
       "      <td>240.5</td>\n",
       "      <td>243.0</td>\n",
       "      <td>240.0</td>\n",
       "      <td>241.0</td>\n",
       "      <td>-1.5</td>\n",
       "      <td>6339</td>\n",
       "    </tr>\n",
       "    <tr>\n",
       "      <th>7</th>\n",
       "      <td>2017-11-10</td>\n",
       "      <td>15061296</td>\n",
       "      <td>3629826936</td>\n",
       "      <td>240.0</td>\n",
       "      <td>242.0</td>\n",
       "      <td>239.5</td>\n",
       "      <td>240.5</td>\n",
       "      <td>-0.5</td>\n",
       "      <td>4465</td>\n",
       "    </tr>\n",
       "    <tr>\n",
       "      <th>8</th>\n",
       "      <td>2017-11-13</td>\n",
       "      <td>12087858</td>\n",
       "      <td>2904559294</td>\n",
       "      <td>240.0</td>\n",
       "      <td>241.5</td>\n",
       "      <td>239.5</td>\n",
       "      <td>239.5</td>\n",
       "      <td>-1.0</td>\n",
       "      <td>4288</td>\n",
       "    </tr>\n",
       "    <tr>\n",
       "      <th>9</th>\n",
       "      <td>2017-11-14</td>\n",
       "      <td>17229176</td>\n",
       "      <td>4132433432</td>\n",
       "      <td>241.0</td>\n",
       "      <td>241.0</td>\n",
       "      <td>239.0</td>\n",
       "      <td>240.0</td>\n",
       "      <td>0.5</td>\n",
       "      <td>4130</td>\n",
       "    </tr>\n",
       "  </tbody>\n",
       "</table>\n",
       "</div>"
      ],
      "text/plain": [
       "        date  capacity    turnover   open   high    low  close  change  \\\n",
       "0 2017-11-01  20465054  4975624502  243.5  245.0  241.5  242.5    -0.5   \n",
       "1 2017-11-02  16309342  3940181714  242.0  242.5  240.5  241.0    -1.5   \n",
       "2 2017-11-03  18327682  4386122470  240.5  241.0  238.5  239.0    -2.0   \n",
       "3 2017-11-06  21029515  5063670900  243.5  244.0  239.0  239.5     0.5   \n",
       "4 2017-11-07  21689261  5266500464  242.0  244.0  241.5  244.0     4.5   \n",
       "5 2017-11-08  14579103  3536455029  243.0  243.5  242.0  242.5    -1.5   \n",
       "6 2017-11-09  21366949  5151628572  240.5  243.0  240.0  241.0    -1.5   \n",
       "7 2017-11-10  15061296  3629826936  240.0  242.0  239.5  240.5    -0.5   \n",
       "8 2017-11-13  12087858  2904559294  240.0  241.5  239.5  239.5    -1.0   \n",
       "9 2017-11-14  17229176  4132433432  241.0  241.0  239.0  240.0     0.5   \n",
       "\n",
       "   transaction  \n",
       "0         6464  \n",
       "1         5912  \n",
       "2         5621  \n",
       "3         6601  \n",
       "4         6729  \n",
       "5         4610  \n",
       "6         6339  \n",
       "7         4465  \n",
       "8         4288  \n",
       "9         4130  "
      ]
     },
     "execution_count": 10,
     "metadata": {},
     "output_type": "execute_result"
    }
   ],
   "source": [
    "df"
   ]
  },
  {
   "cell_type": "markdown",
   "metadata": {
    "deletable": true,
    "editable": true
   },
   "source": [
    "# 即時股價"
   ]
  },
  {
   "cell_type": "code",
   "execution_count": 5,
   "metadata": {
    "collapsed": false,
    "deletable": true,
    "editable": true
   },
   "outputs": [],
   "source": [
    "stock_rt = twstock.realtime.get('2002')"
   ]
  },
  {
   "cell_type": "code",
   "execution_count": 6,
   "metadata": {
    "collapsed": false,
    "deletable": true,
    "editable": true
   },
   "outputs": [
    {
     "data": {
      "text/plain": [
       "{'info': {'channel': '2002.tw',\n",
       "  'code': '2002',\n",
       "  'fullname': '中國鋼鐵股份有限公司',\n",
       "  'name': '中鋼',\n",
       "  'time': '2017-11-16 00:47:05'},\n",
       " 'realtime': {'accumulate_trade_volume': '0',\n",
       "  'best_ask_price': ['24.35', '24.40', '24.45', '24.50', '24.55'],\n",
       "  'best_ask_volume': ['12', '105', '29', '40', '35'],\n",
       "  'best_bid_price': ['24.30', '24.25', '24.20', '24.15', '24.10'],\n",
       "  'best_bid_volume': ['129', '122', '330', '42', '155'],\n",
       "  'high': None,\n",
       "  'latest_trade_price': None,\n",
       "  'low': None,\n",
       "  'open': None,\n",
       "  'trade_volume': '0'},\n",
       " 'success': True,\n",
       " 'timestamp': 1510793225.0}"
      ]
     },
     "execution_count": 6,
     "metadata": {},
     "output_type": "execute_result"
    }
   ],
   "source": [
    "stock_rt"
   ]
  },
  {
   "cell_type": "code",
   "execution_count": 13,
   "metadata": {
    "collapsed": false,
    "deletable": true,
    "editable": true
   },
   "outputs": [
    {
     "data": {
      "text/plain": [
       "'237.00'"
      ]
     },
     "execution_count": 13,
     "metadata": {},
     "output_type": "execute_result"
    }
   ],
   "source": [
    "# 最新股價\n",
    "stock_rt['realtime']['latest_trade_price']"
   ]
  },
  {
   "cell_type": "code",
   "execution_count": 9,
   "metadata": {
    "collapsed": true,
    "deletable": true,
    "editable": true
   },
   "outputs": [],
   "source": [
    "stock_rt = twstock.realtime.get('2002')"
   ]
  },
  {
   "cell_type": "code",
   "execution_count": 10,
   "metadata": {
    "collapsed": false,
    "deletable": true,
    "editable": true
   },
   "outputs": [
    {
     "data": {
      "text/plain": [
       "{'info': {'channel': '2002.tw',\n",
       "  'code': '2002',\n",
       "  'fullname': '中國鋼鐵股份有限公司',\n",
       "  'name': '中鋼',\n",
       "  'time': '2017-11-16 00:58:57'},\n",
       " 'realtime': {'accumulate_trade_volume': '0',\n",
       "  'best_ask_price': ['24.35', '24.40', '24.45', '24.50', '24.55'],\n",
       "  'best_ask_volume': ['11', '168', '28', '44', '54'],\n",
       "  'best_bid_price': ['24.30', '24.25', '24.20', '24.15', '24.10'],\n",
       "  'best_bid_volume': ['28', '221', '362', '69', '177'],\n",
       "  'high': None,\n",
       "  'latest_trade_price': None,\n",
       "  'low': None,\n",
       "  'open': None,\n",
       "  'trade_volume': '0'},\n",
       " 'success': True,\n",
       " 'timestamp': 1510793937.0}"
      ]
     },
     "execution_count": 10,
     "metadata": {},
     "output_type": "execute_result"
    }
   ],
   "source": [
    "stock_rt"
   ]
  },
  {
   "cell_type": "code",
   "execution_count": 13,
   "metadata": {
    "collapsed": false,
    "deletable": true,
    "editable": true
   },
   "outputs": [
    {
     "data": {
      "text/plain": [
       "'2017-11-16 00:58:57'"
      ]
     },
     "execution_count": 13,
     "metadata": {},
     "output_type": "execute_result"
    }
   ],
   "source": [
    "from datetime import datetime\n",
    "dt = datetime.fromtimestamp(stock_rt['timestamp'])\n",
    "dt.strftime('%Y-%m-%d %H:%M:%S')"
   ]
  },
  {
   "cell_type": "code",
   "execution_count": 14,
   "metadata": {
    "collapsed": false,
    "deletable": true,
    "editable": true
   },
   "outputs": [
    {
     "data": {
      "text/plain": [
       "'2017-11-16 08:58:57'"
      ]
     },
     "execution_count": 14,
     "metadata": {},
     "output_type": "execute_result"
    }
   ],
   "source": [
    "my_datetime = datetime.fromtimestamp(stock_rt['timestamp']+8*60*60)\n",
    "my_datetime.strftime('%Y-%m-%d %H:%M:%S')"
   ]
  },
  {
   "cell_type": "code",
   "execution_count": null,
   "metadata": {
    "collapsed": true,
    "deletable": true,
    "editable": true
   },
   "outputs": [],
   "source": []
  }
 ],
 "metadata": {
  "kernelspec": {
   "display_name": "Python 3",
   "language": "python",
   "name": "python3"
  },
  "language_info": {
   "codemirror_mode": {
    "name": "ipython",
    "version": 3
   },
   "file_extension": ".py",
   "mimetype": "text/x-python",
   "name": "python",
   "nbconvert_exporter": "python",
   "pygments_lexer": "ipython3",
   "version": "3.6.2"
  }
 },
 "nbformat": 4,
 "nbformat_minor": 2
}